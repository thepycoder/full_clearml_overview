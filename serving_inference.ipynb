{
 "cells": [
  {
   "cell_type": "code",
   "execution_count": 4,
   "metadata": {},
   "outputs": [
    {
     "name": "stdout",
     "output_type": "stream",
     "text": [
      "{'y': [3]}\n"
     ]
    }
   ],
   "source": [
    "from clearml import Dataset\n",
    "import pandas as pd\n",
    "import requests\n",
    "import time\n",
    "\n",
    "\n",
    "# Define the API endpoint URL\n",
    "url = \"http://localhost:8080/serve/fashion_mnist\"\n",
    "\n",
    "# Define the list of numbers to send\n",
    "data_path = Dataset.get(dataset_name=\"Fashion MNIST\", alias=\"Fashion MNIST\").get_local_copy()\n",
    "fashion_mnist_test = pd.read_csv(f\"{data_path}/fashion-mnist_test.csv\")\n",
    "\n",
    "for i in range(len(fashion_mnist_test)):\n",
    "    # Create a dictionary containing the list of numbers\n",
    "    payload = {'pixels': fashion_mnist_test.iloc[i, 1:].tolist()}\n",
    "\n",
    "    # Send a POST request to the API endpoint with the payload\n",
    "    response = requests.post(url, json=payload)\n",
    "    time.sleep(0.2)\n",
    "\n",
    "# Print the response from the API server\n",
    "print(response.json())"
   ]
  },
  {
   "cell_type": "code",
   "execution_count": 23,
   "metadata": {},
   "outputs": [
    {
     "data": {
      "text/plain": [
       "28"
      ]
     },
     "execution_count": 23,
     "metadata": {},
     "output_type": "execute_result"
    }
   ],
   "source": [
    "len(response.json()['y'])"
   ]
  },
  {
   "cell_type": "code",
   "execution_count": null,
   "metadata": {},
   "outputs": [],
   "source": []
  }
 ],
 "metadata": {
  "kernelspec": {
   "display_name": ".venv",
   "language": "python",
   "name": "python3"
  },
  "language_info": {
   "codemirror_mode": {
    "name": "ipython",
    "version": 3
   },
   "file_extension": ".py",
   "mimetype": "text/x-python",
   "name": "python",
   "nbconvert_exporter": "python",
   "pygments_lexer": "ipython3",
   "version": "3.10.10"
  },
  "orig_nbformat": 4
 },
 "nbformat": 4,
 "nbformat_minor": 2
}
